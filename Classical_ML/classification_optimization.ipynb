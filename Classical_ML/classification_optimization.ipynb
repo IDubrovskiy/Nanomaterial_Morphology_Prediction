{
 "cells": [
  {
   "cell_type": "code",
   "execution_count": 1,
   "metadata": {},
   "outputs": [],
   "source": [
    "import pandas as pd\n",
    "import numpy\n",
    "from sklearn.model_selection import train_test_split\n",
    "import xgboost as xgb\n",
    "from sklearn.multioutput import MultiOutputClassifier\n",
    "from sklearn.ensemble import RandomForestClassifier, RandomForestRegressor\n",
    "import numpy as np\n",
    "from sklearn.dummy import DummyClassifier\n",
    "from sklearn.metrics import f1_score, roc_auc_score, classification_report, accuracy_score, roc_curve, confusion_matrix, average_precision_score, precision_recall_curve, r2_score\n",
    "import seaborn as sns\n",
    "from matplotlib import pyplot as plt\n",
    "from sklearn.model_selection import cross_val_score, KFold\n",
    "from sklearn.metrics import mean_squared_error\n",
    "from sklearn.preprocessing import StandardScaler, MinMaxScaler\n",
    "import warnings\n",
    "from sklearn.model_selection import GridSearchCV\n",
    "warnings.filterwarnings(\"ignore\")\n",
    "from optimize_classification import create_dataset\n",
    "from find_threshold import get_threshold_list"
   ]
  },
  {
   "cell_type": "code",
   "execution_count": 3,
   "metadata": {},
   "outputs": [],
   "source": [
    "df = create_dataset()"
   ]
  },
  {
   "cell_type": "code",
   "execution_count": 7,
   "metadata": {},
   "outputs": [],
   "source": [
    "threshholds = get_threshold_list(df, X)"
   ]
  },
  {
   "cell_type": "code",
   "execution_count": 6,
   "metadata": {},
   "outputs": [],
   "source": [
    "def optimize_classification(particle, threshholds, rs=42):\n",
    "    y = df[particle].to_list()\n",
    "    X_train, X_test, y_train, y_test = train_test_split(\n",
    "        X, y, test_size=0.33, random_state=rs, shuffle=True\n",
    "    )\n",
    "    rf_def = RandomForestClassifier(random_state=rs)\n",
    "    rf_def.fit(X_train, y_train)\n",
    "    y_pred = (rf_def.predict_proba(X_test)[:, 1] >= threshholds[particle]).astype(\n",
    "        int\n",
    "    )\n",
    "    rfr_acc = accuracy_score(y_test, y_pred)\n",
    "    rfr_f1 = f1_score(y_test, y_pred, average=\"macro\")\n",
    "    #print('Random forest accuracy before optimization', \"%.2f\" % rfr_acc)\n",
    "    #print('Random forest F1 before optimization', \"%.2f\" % rfr_f1)\n",
    "    param_grid = { \n",
    "    'n_estimators': [25, 50, 100, 150, 200, 500], \n",
    "    'max_features': ['sqrt', 'log2', None], \n",
    "    'max_depth': [3, 6, 9], \n",
    "    'max_leaf_nodes': [3, 6, 9], \n",
    "    'min_samples_leaf': [1, 2, 4],\n",
    "    } \n",
    "    # Create a based model\n",
    "    rf = RandomForestClassifier(random_state=rs)\n",
    "    # Instantiate the grid search model\n",
    "    grid_search = GridSearchCV(estimator = rf, param_grid = param_grid, \n",
    "                              cv = 5, n_jobs = -1, verbose = 2, scoring = 'f1')\n",
    "    grid_search.fit(X_train, y_train)\n",
    "    best_grid = grid_search.best_estimator_\n",
    "    y_pred = (best_grid.predict_proba(X_test)[:, 1] >= threshholds[particle]).astype(\n",
    "        int\n",
    "    )\n",
    "    rfr_acc_optimized = accuracy_score(y_test, y_pred)\n",
    "    rfr_f1_optimized = f1_score(y_test, y_pred, average=\"macro\")\n",
    "    #print('Random forest accuracy after optimization', \"%.2f\" % rfr_acc_optimized)\n",
    "    #print('Random forest F1 after optimization', \"%.2f\" % rfr_f1_optimized)\n",
    "    return rfr_acc, rfr_f1, grid_search.best_params_, rfr_acc_optimized, rfr_f1_optimized"
   ]
  },
  {
   "cell_type": "code",
   "execution_count": 38,
   "metadata": {},
   "outputs": [],
   "source": [
    "rf_def = xgb.XGBClassifier(random_state=42)"
   ]
  },
  {
   "cell_type": "code",
   "execution_count": 36,
   "metadata": {},
   "outputs": [],
   "source": [
    "def optimize_classification_xgb(particle, threshholds, rs=42):\n",
    "    y = df[particle].to_list()\n",
    "    X_train, X_test, y_train, y_test = train_test_split(\n",
    "        X, y, test_size=0.33, random_state=rs, shuffle=True\n",
    "    )\n",
    "    rf_def = xgb.XGBClassifier(random_state=rs)\n",
    "    rf_def.fit(X_train, y_train)\n",
    "    y_pred = (rf_def.predict_proba(X_test)[:, 1] >= threshholds[particle]).astype(int)\n",
    "    rfr_acc = accuracy_score(y_test, y_pred)\n",
    "    rfr_f1 = f1_score(y_test, y_pred, average=\"macro\")\n",
    "    # print('Random forest accuracy before optimization', \"%.2f\" % rfr_acc)\n",
    "    # print('Random forest F1 before optimization', \"%.2f\" % rfr_f1)\n",
    "    param_grid = {\n",
    "            \"gamma\": [0.5, 1, 1.5, 2, 5],\n",
    "            \"colsample_bytree\": [0.6, 0.8, 1.0],\n",
    "            \"max_depth\": [3, 4, 5],\n",
    "            'n_estimators': [25, 50, 100, 150, 200, 500],\n",
    "            'learning_rate': [0.2, 0.1, 0.01, 0.05]\n",
    "    }\n",
    "    # Create a based model\n",
    "    rf = xgb.XGBClassifier(random_state=rs)\n",
    "    # Instantiate the grid search model\n",
    "    grid_search = GridSearchCV(\n",
    "        estimator=rf, param_grid=param_grid, cv=5, n_jobs=-1, verbose=2, scoring=\"f1\"\n",
    "    )\n",
    "    grid_search.fit(X_train, y_train)\n",
    "    best_grid = grid_search.best_estimator_\n",
    "    y_pred = (best_grid.predict_proba(X_test)[:, 1] >= threshholds[particle]).astype(\n",
    "        int\n",
    "    )\n",
    "    rfr_acc_optimized = accuracy_score(y_test, y_pred)\n",
    "    rfr_f1_optimized = f1_score(y_test, y_pred, average=\"macro\")\n",
    "    # print('Random forest accuracy after optimization', \"%.2f\" % rfr_acc_optimized)\n",
    "    # print('Random forest F1 after optimization', \"%.2f\" % rfr_f1_optimized)\n",
    "    return (\n",
    "        rfr_acc,\n",
    "        rfr_f1,\n",
    "        grid_search.best_params_,\n",
    "        rfr_acc_optimized,\n",
    "        rfr_f1_optimized,\n",
    "    )"
   ]
  },
  {
   "cell_type": "code",
   "execution_count": 4,
   "metadata": {},
   "outputs": [],
   "source": [
    "import pickle"
   ]
  },
  {
   "cell_type": "code",
   "execution_count": 5,
   "metadata": {},
   "outputs": [],
   "source": [
    "from optimize_classification import calculate_metrics"
   ]
  },
  {
   "cell_type": "code",
   "execution_count": 6,
   "metadata": {},
   "outputs": [],
   "source": [
    "X = df.iloc[:, 0:29]\n",
    "scaler = MinMaxScaler()\n",
    "num_cols = X.iloc[:, 0:10].columns\n",
    "X[num_cols] = scaler.fit_transform(X[num_cols])"
   ]
  },
  {
   "cell_type": "code",
   "execution_count": 15,
   "metadata": {},
   "outputs": [
    {
     "data": {
      "text/html": [
       "<div>\n",
       "<style scoped>\n",
       "    .dataframe tbody tr th:only-of-type {\n",
       "        vertical-align: middle;\n",
       "    }\n",
       "\n",
       "    .dataframe tbody tr th {\n",
       "        vertical-align: top;\n",
       "    }\n",
       "\n",
       "    .dataframe thead th {\n",
       "        text-align: right;\n",
       "    }\n",
       "</style>\n",
       "<table border=\"1\" class=\"dataframe\">\n",
       "  <thead>\n",
       "    <tr style=\"text-align: right;\">\n",
       "      <th></th>\n",
       "      <th>HCO3 ion, mM</th>\n",
       "      <th>Polymer Mwt, kDa</th>\n",
       "      <th>Polymer, % wt.</th>\n",
       "      <th>Surfactant, % wt.</th>\n",
       "      <th>Solvent, % vol.</th>\n",
       "      <th>Temperature, C</th>\n",
       "      <th>Synthesis time</th>\n",
       "      <th>Myristyltrimethylammonium bromide</th>\n",
       "      <th>No_surfactant</th>\n",
       "      <th>Sodium dodecylsulfate</th>\n",
       "      <th>...</th>\n",
       "      <th>Isopropyl alcohol</th>\n",
       "      <th>No_solvent</th>\n",
       "      <th>Propylene glycol</th>\n",
       "      <th>tert-Butanol</th>\n",
       "      <th>No_polymer</th>\n",
       "      <th>PAA</th>\n",
       "      <th>PEG</th>\n",
       "      <th>PEI</th>\n",
       "      <th>PSS</th>\n",
       "      <th>PVP</th>\n",
       "    </tr>\n",
       "  </thead>\n",
       "  <tbody>\n",
       "    <tr>\n",
       "      <th>0</th>\n",
       "      <td>0</td>\n",
       "      <td>40.0</td>\n",
       "      <td>0.335</td>\n",
       "      <td>0.425</td>\n",
       "      <td>0.0</td>\n",
       "      <td>58</td>\n",
       "      <td>5340</td>\n",
       "      <td>1</td>\n",
       "      <td>0</td>\n",
       "      <td>0</td>\n",
       "      <td>...</td>\n",
       "      <td>0</td>\n",
       "      <td>1</td>\n",
       "      <td>0</td>\n",
       "      <td>0</td>\n",
       "      <td>0</td>\n",
       "      <td>0</td>\n",
       "      <td>0</td>\n",
       "      <td>0</td>\n",
       "      <td>0</td>\n",
       "      <td>1</td>\n",
       "    </tr>\n",
       "    <tr>\n",
       "      <th>1</th>\n",
       "      <td>240</td>\n",
       "      <td>3.0</td>\n",
       "      <td>0.375</td>\n",
       "      <td>0.000</td>\n",
       "      <td>0.0</td>\n",
       "      <td>68</td>\n",
       "      <td>500</td>\n",
       "      <td>0</td>\n",
       "      <td>1</td>\n",
       "      <td>0</td>\n",
       "      <td>...</td>\n",
       "      <td>0</td>\n",
       "      <td>1</td>\n",
       "      <td>0</td>\n",
       "      <td>0</td>\n",
       "      <td>0</td>\n",
       "      <td>0</td>\n",
       "      <td>1</td>\n",
       "      <td>0</td>\n",
       "      <td>0</td>\n",
       "      <td>0</td>\n",
       "    </tr>\n",
       "    <tr>\n",
       "      <th>2</th>\n",
       "      <td>0</td>\n",
       "      <td>2.1</td>\n",
       "      <td>0.395</td>\n",
       "      <td>0.000</td>\n",
       "      <td>0.0</td>\n",
       "      <td>76</td>\n",
       "      <td>2090</td>\n",
       "      <td>0</td>\n",
       "      <td>1</td>\n",
       "      <td>0</td>\n",
       "      <td>...</td>\n",
       "      <td>0</td>\n",
       "      <td>1</td>\n",
       "      <td>0</td>\n",
       "      <td>0</td>\n",
       "      <td>0</td>\n",
       "      <td>1</td>\n",
       "      <td>0</td>\n",
       "      <td>0</td>\n",
       "      <td>0</td>\n",
       "      <td>0</td>\n",
       "    </tr>\n",
       "    <tr>\n",
       "      <th>3</th>\n",
       "      <td>31</td>\n",
       "      <td>1000.0</td>\n",
       "      <td>0.320</td>\n",
       "      <td>0.000</td>\n",
       "      <td>0.0</td>\n",
       "      <td>58</td>\n",
       "      <td>1729</td>\n",
       "      <td>0</td>\n",
       "      <td>1</td>\n",
       "      <td>0</td>\n",
       "      <td>...</td>\n",
       "      <td>0</td>\n",
       "      <td>1</td>\n",
       "      <td>0</td>\n",
       "      <td>0</td>\n",
       "      <td>0</td>\n",
       "      <td>0</td>\n",
       "      <td>0</td>\n",
       "      <td>0</td>\n",
       "      <td>1</td>\n",
       "      <td>0</td>\n",
       "    </tr>\n",
       "    <tr>\n",
       "      <th>4</th>\n",
       "      <td>280</td>\n",
       "      <td>25.0</td>\n",
       "      <td>0.875</td>\n",
       "      <td>0.000</td>\n",
       "      <td>0.0</td>\n",
       "      <td>68</td>\n",
       "      <td>520</td>\n",
       "      <td>0</td>\n",
       "      <td>1</td>\n",
       "      <td>0</td>\n",
       "      <td>...</td>\n",
       "      <td>0</td>\n",
       "      <td>1</td>\n",
       "      <td>0</td>\n",
       "      <td>0</td>\n",
       "      <td>0</td>\n",
       "      <td>0</td>\n",
       "      <td>0</td>\n",
       "      <td>1</td>\n",
       "      <td>0</td>\n",
       "      <td>0</td>\n",
       "    </tr>\n",
       "    <tr>\n",
       "      <th>...</th>\n",
       "      <td>...</td>\n",
       "      <td>...</td>\n",
       "      <td>...</td>\n",
       "      <td>...</td>\n",
       "      <td>...</td>\n",
       "      <td>...</td>\n",
       "      <td>...</td>\n",
       "      <td>...</td>\n",
       "      <td>...</td>\n",
       "      <td>...</td>\n",
       "      <td>...</td>\n",
       "      <td>...</td>\n",
       "      <td>...</td>\n",
       "      <td>...</td>\n",
       "      <td>...</td>\n",
       "      <td>...</td>\n",
       "      <td>...</td>\n",
       "      <td>...</td>\n",
       "      <td>...</td>\n",
       "      <td>...</td>\n",
       "      <td>...</td>\n",
       "    </tr>\n",
       "    <tr>\n",
       "      <th>204</th>\n",
       "      <td>240</td>\n",
       "      <td>0.0</td>\n",
       "      <td>0.000</td>\n",
       "      <td>0.000</td>\n",
       "      <td>0.0</td>\n",
       "      <td>35</td>\n",
       "      <td>680</td>\n",
       "      <td>0</td>\n",
       "      <td>1</td>\n",
       "      <td>0</td>\n",
       "      <td>...</td>\n",
       "      <td>0</td>\n",
       "      <td>1</td>\n",
       "      <td>0</td>\n",
       "      <td>0</td>\n",
       "      <td>1</td>\n",
       "      <td>0</td>\n",
       "      <td>0</td>\n",
       "      <td>0</td>\n",
       "      <td>0</td>\n",
       "      <td>0</td>\n",
       "    </tr>\n",
       "    <tr>\n",
       "      <th>205</th>\n",
       "      <td>31</td>\n",
       "      <td>0.0</td>\n",
       "      <td>0.000</td>\n",
       "      <td>0.000</td>\n",
       "      <td>0.0</td>\n",
       "      <td>35</td>\n",
       "      <td>669</td>\n",
       "      <td>0</td>\n",
       "      <td>1</td>\n",
       "      <td>0</td>\n",
       "      <td>...</td>\n",
       "      <td>0</td>\n",
       "      <td>1</td>\n",
       "      <td>0</td>\n",
       "      <td>0</td>\n",
       "      <td>1</td>\n",
       "      <td>0</td>\n",
       "      <td>0</td>\n",
       "      <td>0</td>\n",
       "      <td>0</td>\n",
       "      <td>0</td>\n",
       "    </tr>\n",
       "    <tr>\n",
       "      <th>206</th>\n",
       "      <td>62</td>\n",
       "      <td>0.0</td>\n",
       "      <td>0.000</td>\n",
       "      <td>0.000</td>\n",
       "      <td>0.0</td>\n",
       "      <td>68</td>\n",
       "      <td>2874</td>\n",
       "      <td>0</td>\n",
       "      <td>1</td>\n",
       "      <td>0</td>\n",
       "      <td>...</td>\n",
       "      <td>0</td>\n",
       "      <td>1</td>\n",
       "      <td>0</td>\n",
       "      <td>0</td>\n",
       "      <td>1</td>\n",
       "      <td>0</td>\n",
       "      <td>0</td>\n",
       "      <td>0</td>\n",
       "      <td>0</td>\n",
       "      <td>0</td>\n",
       "    </tr>\n",
       "    <tr>\n",
       "      <th>207</th>\n",
       "      <td>0</td>\n",
       "      <td>0.0</td>\n",
       "      <td>0.000</td>\n",
       "      <td>0.000</td>\n",
       "      <td>0.0</td>\n",
       "      <td>68</td>\n",
       "      <td>2865</td>\n",
       "      <td>0</td>\n",
       "      <td>1</td>\n",
       "      <td>0</td>\n",
       "      <td>...</td>\n",
       "      <td>0</td>\n",
       "      <td>1</td>\n",
       "      <td>0</td>\n",
       "      <td>0</td>\n",
       "      <td>1</td>\n",
       "      <td>0</td>\n",
       "      <td>0</td>\n",
       "      <td>0</td>\n",
       "      <td>0</td>\n",
       "      <td>0</td>\n",
       "    </tr>\n",
       "    <tr>\n",
       "      <th>208</th>\n",
       "      <td>66</td>\n",
       "      <td>0.0</td>\n",
       "      <td>0.000</td>\n",
       "      <td>0.000</td>\n",
       "      <td>0.0</td>\n",
       "      <td>68</td>\n",
       "      <td>2855</td>\n",
       "      <td>0</td>\n",
       "      <td>1</td>\n",
       "      <td>0</td>\n",
       "      <td>...</td>\n",
       "      <td>0</td>\n",
       "      <td>1</td>\n",
       "      <td>0</td>\n",
       "      <td>0</td>\n",
       "      <td>1</td>\n",
       "      <td>0</td>\n",
       "      <td>0</td>\n",
       "      <td>0</td>\n",
       "      <td>0</td>\n",
       "      <td>0</td>\n",
       "    </tr>\n",
       "  </tbody>\n",
       "</table>\n",
       "<p>209 rows × 22 columns</p>\n",
       "</div>"
      ],
      "text/plain": [
       "     HCO3 ion, mM  Polymer Mwt, kDa  Polymer, % wt.  Surfactant, % wt.  \\\n",
       "0               0              40.0           0.335              0.425   \n",
       "1             240               3.0           0.375              0.000   \n",
       "2               0               2.1           0.395              0.000   \n",
       "3              31            1000.0           0.320              0.000   \n",
       "4             280              25.0           0.875              0.000   \n",
       "..            ...               ...             ...                ...   \n",
       "204           240               0.0           0.000              0.000   \n",
       "205            31               0.0           0.000              0.000   \n",
       "206            62               0.0           0.000              0.000   \n",
       "207             0               0.0           0.000              0.000   \n",
       "208            66               0.0           0.000              0.000   \n",
       "\n",
       "     Solvent, % vol.  Temperature, C  Synthesis time  \\\n",
       "0                0.0              58            5340   \n",
       "1                0.0              68             500   \n",
       "2                0.0              76            2090   \n",
       "3                0.0              58            1729   \n",
       "4                0.0              68             520   \n",
       "..               ...             ...             ...   \n",
       "204              0.0              35             680   \n",
       "205              0.0              35             669   \n",
       "206              0.0              68            2874   \n",
       "207              0.0              68            2865   \n",
       "208              0.0              68            2855   \n",
       "\n",
       "     Myristyltrimethylammonium bromide  No_surfactant  Sodium dodecylsulfate  \\\n",
       "0                                    1              0                      0   \n",
       "1                                    0              1                      0   \n",
       "2                                    0              1                      0   \n",
       "3                                    0              1                      0   \n",
       "4                                    0              1                      0   \n",
       "..                                 ...            ...                    ...   \n",
       "204                                  0              1                      0   \n",
       "205                                  0              1                      0   \n",
       "206                                  0              1                      0   \n",
       "207                                  0              1                      0   \n",
       "208                                  0              1                      0   \n",
       "\n",
       "     ...  Isopropyl alcohol  No_solvent  Propylene glycol  tert-Butanol  \\\n",
       "0    ...                  0           1                 0             0   \n",
       "1    ...                  0           1                 0             0   \n",
       "2    ...                  0           1                 0             0   \n",
       "3    ...                  0           1                 0             0   \n",
       "4    ...                  0           1                 0             0   \n",
       "..   ...                ...         ...               ...           ...   \n",
       "204  ...                  0           1                 0             0   \n",
       "205  ...                  0           1                 0             0   \n",
       "206  ...                  0           1                 0             0   \n",
       "207  ...                  0           1                 0             0   \n",
       "208  ...                  0           1                 0             0   \n",
       "\n",
       "     No_polymer  PAA  PEG  PEI  PSS  PVP  \n",
       "0             0    0    0    0    0    1  \n",
       "1             0    0    1    0    0    0  \n",
       "2             0    1    0    0    0    0  \n",
       "3             0    0    0    0    1    0  \n",
       "4             0    0    0    1    0    0  \n",
       "..          ...  ...  ...  ...  ...  ...  \n",
       "204           1    0    0    0    0    0  \n",
       "205           1    0    0    0    0    0  \n",
       "206           1    0    0    0    0    0  \n",
       "207           1    0    0    0    0    0  \n",
       "208           1    0    0    0    0    0  \n",
       "\n",
       "[209 rows x 22 columns]"
      ]
     },
     "execution_count": 15,
     "metadata": {},
     "output_type": "execute_result"
    }
   ],
   "source": [
    "df.iloc[:, 0:22]"
   ]
  },
  {
   "cell_type": "code",
   "execution_count": 8,
   "metadata": {},
   "outputs": [],
   "source": [
    "y = df['Cube'].to_list()\n",
    "X_train, X_test, y_train, y_test = train_test_split(\n",
    "    X, y, test_size=0.33, random_state=0, shuffle=True\n",
    ")"
   ]
  },
  {
   "cell_type": "code",
   "execution_count": 9,
   "metadata": {},
   "outputs": [],
   "source": [
    "with open('rf_results_filtered/best_rf_filtered_Cube_0.pickle', 'rb') as f:\n",
    "    model = pickle.load(f)"
   ]
  },
  {
   "cell_type": "code",
   "execution_count": 10,
   "metadata": {},
   "outputs": [
    {
     "data": {
      "text/plain": [
       "(1.0, 1.0)"
      ]
     },
     "execution_count": 10,
     "metadata": {},
     "output_type": "execute_result"
    }
   ],
   "source": [
    "calculate_metrics(model, X_test, y_test)"
   ]
  },
  {
   "cell_type": "code",
   "execution_count": 34,
   "metadata": {},
   "outputs": [
    {
     "name": "stdout",
     "output_type": "stream",
     "text": [
      "Fitting 5 folds for each of 1080 candidates, totalling 5400 fits\n"
     ]
    },
    {
     "data": {
      "text/plain": [
       "(0.8695652173913043,\n",
       " 0.8438521498617048,\n",
       " {'colsample_bytree': 0.6,\n",
       "  'gamma': 5,\n",
       "  'learning_rate': 0.1,\n",
       "  'max_depth': 5,\n",
       "  'n_estimators': 25},\n",
       " 0.855072463768116,\n",
       " 0.8369565217391304)"
      ]
     },
     "execution_count": 34,
     "metadata": {},
     "output_type": "execute_result"
    }
   ],
   "source": [
    "optimize_classification_xgb('Cube', threshholds, rs=42)"
   ]
  },
  {
   "cell_type": "code",
   "execution_count": 6,
   "metadata": {},
   "outputs": [],
   "source": [
    "def calculate_different_rs_results(particle):\n",
    "    rfr_accuracies = []\n",
    "    rfr_f1s = []\n",
    "    rfr_accuracies_opt = []\n",
    "    rfr_f1s_opt = []\n",
    "    all_best_params = []\n",
    "    for rs in [0, 10, 20, 30, 40]:\n",
    "       rfr_acc, rfr_f1, best_params, rfr_acc_optimized, rfr_f1_optimized = optimize_classification(particle, rs=rs)\n",
    "       rfr_accuracies.append(rfr_acc)\n",
    "       rfr_f1s.append(rfr_f1)\n",
    "       rfr_accuracies_opt.append(rfr_acc_optimized)\n",
    "       rfr_f1s_opt.append(rfr_f1_optimized)\n",
    "       all_best_params.append(best_params)\n",
    "    return rfr_accuracies, rfr_f1s, rfr_accuracies_opt, rfr_f1s_opt, all_best_params\n"
   ]
  },
  {
   "cell_type": "code",
   "execution_count": 7,
   "metadata": {},
   "outputs": [
    {
     "name": "stdout",
     "output_type": "stream",
     "text": [
      "Random forest accuracy before optimization 0.77\n",
      "Random forest F1 before optimization 0.62\n",
      "Fitting 5 folds for each of 486 candidates, totalling 2430 fits\n",
      "Random forest accuracy after optimization 0.78\n",
      "Random forest F1 after optimization 0.58\n",
      "Random forest accuracy before optimization 0.75\n",
      "Random forest F1 before optimization 0.61\n",
      "Fitting 5 folds for each of 486 candidates, totalling 2430 fits\n",
      "Random forest accuracy after optimization 0.77\n",
      "Random forest F1 after optimization 0.60\n",
      "Random forest accuracy before optimization 0.74\n",
      "Random forest F1 before optimization 0.55\n",
      "Fitting 5 folds for each of 486 candidates, totalling 2430 fits\n",
      "Random forest accuracy after optimization 0.74\n",
      "Random forest F1 after optimization 0.55\n",
      "Random forest accuracy before optimization 0.77\n",
      "Random forest F1 before optimization 0.62\n",
      "Fitting 5 folds for each of 486 candidates, totalling 2430 fits\n",
      "Random forest accuracy after optimization 0.74\n",
      "Random forest F1 after optimization 0.57\n",
      "Random forest accuracy before optimization 0.83\n",
      "Random forest F1 before optimization 0.73\n",
      "Fitting 5 folds for each of 486 candidates, totalling 2430 fits\n",
      "Random forest accuracy after optimization 0.86\n",
      "Random forest F1 after optimization 0.73\n"
     ]
    }
   ],
   "source": [
    "rfr_accuracies, rfr_f1s, rfr_accuracies_opt, rfr_f1s_opt, all_best_params = calculate_different_rs_results('Amorphous')"
   ]
  },
  {
   "cell_type": "code",
   "execution_count": 8,
   "metadata": {},
   "outputs": [
    {
     "data": {
      "text/plain": [
       "[0.782608695652174,\n",
       " 0.7681159420289855,\n",
       " 0.7391304347826086,\n",
       " 0.7391304347826086,\n",
       " 0.855072463768116]"
      ]
     },
     "execution_count": 8,
     "metadata": {},
     "output_type": "execute_result"
    }
   ],
   "source": [
    "rfr_accuracies_opt"
   ]
  },
  {
   "cell_type": "code",
   "execution_count": 9,
   "metadata": {},
   "outputs": [
    {
     "data": {
      "text/plain": [
       "[0.5787545787545787,\n",
       " 0.5964912280701754,\n",
       " 0.5460526315789473,\n",
       " 0.573489010989011,\n",
       " 0.7296238244514106]"
      ]
     },
     "execution_count": 9,
     "metadata": {},
     "output_type": "execute_result"
    }
   ],
   "source": [
    "rfr_f1s_opt"
   ]
  },
  {
   "cell_type": "code",
   "execution_count": 10,
   "metadata": {},
   "outputs": [
    {
     "data": {
      "text/plain": [
       "0.6048822547688246"
      ]
     },
     "execution_count": 10,
     "metadata": {},
     "output_type": "execute_result"
    }
   ],
   "source": [
    "np.mean(rfr_f1s_opt)"
   ]
  },
  {
   "cell_type": "code",
   "execution_count": 11,
   "metadata": {},
   "outputs": [
    {
     "data": {
      "text/plain": [
       "0.7768115942028986"
      ]
     },
     "execution_count": 11,
     "metadata": {},
     "output_type": "execute_result"
    }
   ],
   "source": [
    "np.mean(rfr_accuracies_opt)"
   ]
  },
  {
   "cell_type": "code",
   "execution_count": 12,
   "metadata": {},
   "outputs": [
    {
     "data": {
      "text/plain": [
       "0.06443599042386182"
      ]
     },
     "execution_count": 12,
     "metadata": {},
     "output_type": "execute_result"
    }
   ],
   "source": [
    "np.std(rfr_f1s_opt)"
   ]
  },
  {
   "cell_type": "code",
   "execution_count": 19,
   "metadata": {},
   "outputs": [
    {
     "data": {
      "text/plain": [
       "[{'max_depth': 3,\n",
       "  'max_features': None,\n",
       "  'max_leaf_nodes': 6,\n",
       "  'min_samples_leaf': 4,\n",
       "  'n_estimators': 100},\n",
       " {'max_depth': 6,\n",
       "  'max_features': None,\n",
       "  'max_leaf_nodes': 9,\n",
       "  'min_samples_leaf': 1,\n",
       "  'n_estimators': 150},\n",
       " {'max_depth': 6,\n",
       "  'max_features': None,\n",
       "  'max_leaf_nodes': 9,\n",
       "  'min_samples_leaf': 1,\n",
       "  'n_estimators': 500},\n",
       " {'max_depth': 3,\n",
       "  'max_features': None,\n",
       "  'max_leaf_nodes': 6,\n",
       "  'min_samples_leaf': 1,\n",
       "  'n_estimators': 50},\n",
       " {'max_depth': 3,\n",
       "  'max_features': 'sqrt',\n",
       "  'max_leaf_nodes': 6,\n",
       "  'min_samples_leaf': 1,\n",
       "  'n_estimators': 25}]"
      ]
     },
     "execution_count": 19,
     "metadata": {},
     "output_type": "execute_result"
    }
   ],
   "source": [
    "all_best_params"
   ]
  },
  {
   "cell_type": "code",
   "execution_count": 10,
   "metadata": {},
   "outputs": [
    {
     "name": "stdout",
     "output_type": "stream",
     "text": [
      "Random forest accuracy before optimization 0.81\n",
      "Random forest F1 before optimization 0.60\n"
     ]
    }
   ],
   "source": [
    "particle = 'Amorphous'\n",
    "rs = 0\n",
    "y = df[particle].to_list()\n",
    "X_train, X_test, y_train, y_test = train_test_split(\n",
    "    X, y, test_size=0.33, random_state=rs, shuffle=True\n",
    ")\n",
    "rfr = RandomForestClassifier(**{'max_depth': 3,\n",
    "  'max_features': None,\n",
    "  'max_leaf_nodes': 6,\n",
    "  'min_samples_leaf': 4,\n",
    "  'n_estimators': 100}, random_state=rs)\n",
    "rfr.fit(X_train, y_train)\n",
    "y_pred = (rfr.predict_proba(X_test)[:, 1] >= 0.253).astype(\n",
    "    int\n",
    ")\n",
    "rfr_acc = \"%.2f\" % accuracy_score(y_test, y_pred)\n",
    "rfr_f1 = \"%.2f\" % f1_score(y_test, y_pred, average=\"macro\")\n",
    "print('Random forest accuracy before optimization', rfr_acc)\n",
    "print('Random forest F1 before optimization', rfr_f1)"
   ]
  },
  {
   "cell_type": "code",
   "execution_count": null,
   "metadata": {},
   "outputs": [],
   "source": [
    "0.86 0.65"
   ]
  }
 ],
 "metadata": {
  "kernelspec": {
   "display_name": "pl",
   "language": "python",
   "name": "python3"
  },
  "language_info": {
   "codemirror_mode": {
    "name": "ipython",
    "version": 3
   },
   "file_extension": ".py",
   "mimetype": "text/x-python",
   "name": "python",
   "nbconvert_exporter": "python",
   "pygments_lexer": "ipython3",
   "version": "3.9.0"
  }
 },
 "nbformat": 4,
 "nbformat_minor": 2
}
