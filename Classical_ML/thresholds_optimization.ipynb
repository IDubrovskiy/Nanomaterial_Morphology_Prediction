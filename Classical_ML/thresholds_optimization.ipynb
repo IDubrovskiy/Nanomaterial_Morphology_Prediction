{
 "cells": [
  {
   "cell_type": "code",
   "execution_count": 1,
   "metadata": {},
   "outputs": [],
   "source": [
    "import pandas as pd\n",
    "import numpy\n",
    "from sklearn.model_selection import train_test_split\n",
    "import xgboost as xgb\n",
    "from sklearn.multioutput import MultiOutputClassifier\n",
    "from sklearn.ensemble import RandomForestClassifier\n",
    "import numpy as np\n",
    "from sklearn.dummy import DummyClassifier\n",
    "from sklearn.metrics import f1_score, roc_auc_score, classification_report, accuracy_score, roc_curve, confusion_matrix, average_precision_score, precision_recall_curve, r2_score\n",
    "import seaborn as sns\n",
    "from matplotlib import pyplot as plt\n",
    "from sklearn.model_selection import cross_val_score, KFold\n",
    "from sklearn.metrics import mean_squared_error\n",
    "from sklearn.preprocessing import StandardScaler, MinMaxScaler\n",
    "import warnings\n",
    "from sklearn.model_selection import GridSearchCV\n",
    "warnings.filterwarnings(\"ignore\")\n",
    "from preprocess_dataset import create_dataset"
   ]
  },
  {
   "cell_type": "code",
   "execution_count": 2,
   "metadata": {},
   "outputs": [],
   "source": [
    "df, X = create_dataset()"
   ]
  },
  {
   "cell_type": "code",
   "execution_count": 3,
   "metadata": {},
   "outputs": [],
   "source": [
    "def find_best_threshold(particle, rs=0):\n",
    "    y = df[particle].to_list()\n",
    "    X_train, X_test, y_train, y_test = train_test_split(\n",
    "        X, y, test_size=0.33, random_state=rs, shuffle=True\n",
    "    )\n",
    "    rf = RandomForestClassifier(**{'max_depth': 5}, random_state=rs)\n",
    "    rf.fit(X_train, y_train)\n",
    "    y_pred = (rf.predict_proba(X_test)[:, 1] >= 0.148).astype(\n",
    "        int\n",
    "    )\n",
    "    y_predict_proba = rf.predict_proba(X_test)[:, 1]\n",
    "\n",
    "    precision, recall, thresholds2 = precision_recall_curve(y_test, y_predict_proba)\n",
    "    return thresholds2[np.argmin(abs(precision-recall))]"
   ]
  },
  {
   "cell_type": "code",
   "execution_count": 3,
   "metadata": {},
   "outputs": [],
   "source": [
    "particles = df.iloc[:, 29:].columns.to_list()"
   ]
  },
  {
   "cell_type": "code",
   "execution_count": 4,
   "metadata": {},
   "outputs": [
    {
     "data": {
      "text/plain": [
       "['Cube',\n",
       " 'Stick',\n",
       " 'Sphere',\n",
       " 'Flat',\n",
       " 'Amorphous',\n",
       " 'Cube_s',\n",
       " 'Cube_m',\n",
       " 'Cube_l',\n",
       " 'Sphere_s',\n",
       " 'Sphere_m',\n",
       " 'Sphere_l',\n",
       " 'Stick_s',\n",
       " 'Stick_m',\n",
       " 'Stick_l',\n",
       " 'Flat_s',\n",
       " 'Flat_m',\n",
       " 'Flat_l',\n",
       " 'Amorphous_s',\n",
       " 'Amorphous_m',\n",
       " 'Amorphous_l']"
      ]
     },
     "execution_count": 4,
     "metadata": {},
     "output_type": "execute_result"
    }
   ],
   "source": [
    "particles"
   ]
  },
  {
   "cell_type": "code",
   "execution_count": 5,
   "metadata": {},
   "outputs": [],
   "source": [
    "threshholds = {particle: find_best_threshold(particle, rs=0) for particle in particles}"
   ]
  },
  {
   "cell_type": "code",
   "execution_count": 6,
   "metadata": {},
   "outputs": [
    {
     "data": {
      "text/plain": [
       "{'Cube': 0.6113141412995159,\n",
       " 'Stick': 0.4941726297781783,\n",
       " 'Sphere': 0.2767502839463634,\n",
       " 'Flat': 0.14765203466245086,\n",
       " 'Amorphous': 0.24554699809041267,\n",
       " 'Cube_s': 0.3211773943129847,\n",
       " 'Cube_m': 0.2576857392621164,\n",
       " 'Cube_l': 0.46562377163026036,\n",
       " 'Sphere_s': 0.09443187197359564,\n",
       " 'Sphere_m': 0.1526515382970376,\n",
       " 'Sphere_l': 0.15833333333333333,\n",
       " 'Stick_s': 0.28306544262604827,\n",
       " 'Stick_m': 0.30000352801327607,\n",
       " 'Stick_l': 0.25263137190972385,\n",
       " 'Flat_s': 0.023405042016806724,\n",
       " 'Flat_m': 0.0909090909090909,\n",
       " 'Flat_l': 0.010588235294117647,\n",
       " 'Amorphous_s': 0.05286446886446887,\n",
       " 'Amorphous_m': 0.1635,\n",
       " 'Amorphous_l': 0.1514557757145189}"
      ]
     },
     "execution_count": 6,
     "metadata": {},
     "output_type": "execute_result"
    }
   ],
   "source": [
    "threshholds"
   ]
  },
  {
   "cell_type": "code",
   "execution_count": 7,
   "metadata": {},
   "outputs": [],
   "source": [
    "threshholds = {\n",
    "    \"Cube\": 0.688,\n",
    "    \"Sphere\": 0.4,\n",
    "    \"Stick\": 0.5,\n",
    "    \"Flat\": 0.5,\n",
    "    \"Amorphous\": 0.4,\n",
    "    \"Cube_s\": 0.6,\n",
    "    \"Cube_m\": 0.3,\n",
    "    \"Cube_l\": 0.4,\n",
    "    \"Sphere_s\": 0.1,\n",
    "    \"Sphere_m\": 0.3,\n",
    "    \"Sphere_l\": 0.2,\n",
    "    \"Stick_s\": 0.4,\n",
    "    \"Stick_m\": 0.4,\n",
    "    \"Stick_l\": 0.4,\n",
    "    \"Flat_s\": 0.2,\n",
    "    \"Flat_m\": 0.025,\n",
    "    \"Flat_l\": 0.025,\n",
    "    \"Amorphous_s\": 0.05,\n",
    "    \"Amorphous_m\": 0.05,\n",
    "    \"Amorphous_l\": 0.05,\n",
    "}"
   ]
  }
 ],
 "metadata": {
  "kernelspec": {
   "display_name": "pl",
   "language": "python",
   "name": "python3"
  },
  "language_info": {
   "codemirror_mode": {
    "name": "ipython",
    "version": 3
   },
   "file_extension": ".py",
   "mimetype": "text/x-python",
   "name": "python",
   "nbconvert_exporter": "python",
   "pygments_lexer": "ipython3",
   "version": "3.9.0"
  }
 },
 "nbformat": 4,
 "nbformat_minor": 2
}
