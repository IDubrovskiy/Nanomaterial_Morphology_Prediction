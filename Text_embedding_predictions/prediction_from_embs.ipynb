{
 "cells": [
  {
   "cell_type": "code",
   "execution_count": 1,
   "metadata": {},
   "outputs": [
    {
     "name": "stderr",
     "output_type": "stream",
     "text": [
      "c:\\Users\\ID\\miniconda3\\envs\\pl\\lib\\site-packages\\torchaudio\\backend\\utils.py:74: UserWarning: No audio backend is available.\n",
      "  warnings.warn(\"No audio backend is available.\")\n"
     ]
    }
   ],
   "source": [
    "from utils import Create_data, Create_text_embeddings, generate_patterns\n",
    "import torch\n",
    "import glob\n",
    "import pandas as pd"
   ]
  },
  {
   "cell_type": "code",
   "execution_count": 2,
   "metadata": {},
   "outputs": [],
   "source": [
    "path_to_data = '../Datasets/Augmented_One_Particle_Dataset/Version_0/'\n",
    "device = torch.device('cuda' if torch.cuda.is_available() else 'cpu')\n",
    "df_labeled = pd.read_excel('../Datasets/dataset_labeled.xlsx')"
   ]
  },
  {
   "cell_type": "code",
   "execution_count": 3,
   "metadata": {},
   "outputs": [],
   "source": [
    "pattern = None\n",
    "path = path_to_data + 'Version_0'\n",
    "with open('..\\Datasets\\procedure_patterns.txt') as f:\n",
    "    lines = filter(None, (line.rstrip() for line in f))\n",
    "    procedures = list(lines)\n",
    "if pattern != None:\n",
    "   procedures = [procedures[pattern]]\n",
    "values = pd.read_excel('..\\Datasets\\{}'.format('synthesis_conditions_dataset.xlsx'))\n",
    "df = pd.DataFrame(columns = ['image', 'text'])\n",
    "df['image'] = pd.Series([file.replace(path_to_data + '/','') for file in glob.glob(path_to_data + '/*.jpg')])\n",
    "labels = pd.DataFrame(columns=['Cube','Stick','Sphere','Flat','Amorphous'])\n",
    "for index, row in enumerate(df.image):\n",
    "    try:\n",
    "      tmp = df_labeled[df_labeled.Image_id == int([x for x in row.split('_') if x.isdigit()][0])].reset_index().loc[0, 'Cube':'Amorphous']\n",
    "      labels.loc[len(labels.index)] = tmp\n",
    "      df.iloc[index, 1] = generate_patterns(procedures, values, int([x for x in row.split('_') if x.isdigit()][0]))[0]\n",
    "    except:\n",
    "       pass\n",
    "df = df.dropna()"
   ]
  },
  {
   "cell_type": "code",
   "execution_count": 29,
   "metadata": {},
   "outputs": [],
   "source": [
    "dataset_pattern_0 = pd.read_csv('text_dataset_pattern_0.csv')"
   ]
  },
  {
   "cell_type": "code",
   "execution_count": 32,
   "metadata": {},
   "outputs": [
    {
     "data": {
      "text/html": [
       "<div>\n",
       "<style scoped>\n",
       "    .dataframe tbody tr th:only-of-type {\n",
       "        vertical-align: middle;\n",
       "    }\n",
       "\n",
       "    .dataframe tbody tr th {\n",
       "        vertical-align: top;\n",
       "    }\n",
       "\n",
       "    .dataframe thead th {\n",
       "        text-align: right;\n",
       "    }\n",
       "</style>\n",
       "<table border=\"1\" class=\"dataframe\">\n",
       "  <thead>\n",
       "    <tr style=\"text-align: right;\">\n",
       "      <th></th>\n",
       "      <th>Flat</th>\n",
       "      <th>Amorphous</th>\n",
       "      <th>Sphere</th>\n",
       "      <th>Stick</th>\n",
       "      <th>Cube</th>\n",
       "      <th>text</th>\n",
       "    </tr>\n",
       "  </thead>\n",
       "  <tbody>\n",
       "    <tr>\n",
       "      <th>0</th>\n",
       "      <td>0</td>\n",
       "      <td>0</td>\n",
       "      <td>0</td>\n",
       "      <td>1</td>\n",
       "      <td>1</td>\n",
       "      <td>All the materials were synthesized by the co-p...</td>\n",
       "    </tr>\n",
       "    <tr>\n",
       "      <th>1</th>\n",
       "      <td>0</td>\n",
       "      <td>0</td>\n",
       "      <td>0</td>\n",
       "      <td>1</td>\n",
       "      <td>0</td>\n",
       "      <td>All the materials were synthesized by the co-p...</td>\n",
       "    </tr>\n",
       "    <tr>\n",
       "      <th>2</th>\n",
       "      <td>0</td>\n",
       "      <td>0</td>\n",
       "      <td>1</td>\n",
       "      <td>0</td>\n",
       "      <td>0</td>\n",
       "      <td>All the materials were synthesized by the co-p...</td>\n",
       "    </tr>\n",
       "    <tr>\n",
       "      <th>3</th>\n",
       "      <td>0</td>\n",
       "      <td>0</td>\n",
       "      <td>1</td>\n",
       "      <td>0</td>\n",
       "      <td>1</td>\n",
       "      <td>All the materials were synthesized by the co-p...</td>\n",
       "    </tr>\n",
       "    <tr>\n",
       "      <th>4</th>\n",
       "      <td>0</td>\n",
       "      <td>0</td>\n",
       "      <td>0</td>\n",
       "      <td>1</td>\n",
       "      <td>1</td>\n",
       "      <td>All the materials were synthesized by the co-p...</td>\n",
       "    </tr>\n",
       "    <tr>\n",
       "      <th>...</th>\n",
       "      <td>...</td>\n",
       "      <td>...</td>\n",
       "      <td>...</td>\n",
       "      <td>...</td>\n",
       "      <td>...</td>\n",
       "      <td>...</td>\n",
       "    </tr>\n",
       "    <tr>\n",
       "      <th>204</th>\n",
       "      <td>0</td>\n",
       "      <td>0</td>\n",
       "      <td>0</td>\n",
       "      <td>0</td>\n",
       "      <td>1</td>\n",
       "      <td>All the materials were synthesized by the co-p...</td>\n",
       "    </tr>\n",
       "    <tr>\n",
       "      <th>205</th>\n",
       "      <td>0</td>\n",
       "      <td>1</td>\n",
       "      <td>0</td>\n",
       "      <td>0</td>\n",
       "      <td>1</td>\n",
       "      <td>All the materials were synthesized by the co-p...</td>\n",
       "    </tr>\n",
       "    <tr>\n",
       "      <th>206</th>\n",
       "      <td>0</td>\n",
       "      <td>0</td>\n",
       "      <td>0</td>\n",
       "      <td>1</td>\n",
       "      <td>1</td>\n",
       "      <td>All the materials were synthesized by the co-p...</td>\n",
       "    </tr>\n",
       "    <tr>\n",
       "      <th>207</th>\n",
       "      <td>0</td>\n",
       "      <td>0</td>\n",
       "      <td>0</td>\n",
       "      <td>1</td>\n",
       "      <td>1</td>\n",
       "      <td>All the materials were synthesized by the co-p...</td>\n",
       "    </tr>\n",
       "    <tr>\n",
       "      <th>208</th>\n",
       "      <td>0</td>\n",
       "      <td>0</td>\n",
       "      <td>0</td>\n",
       "      <td>1</td>\n",
       "      <td>1</td>\n",
       "      <td>All the materials were synthesized by the co-p...</td>\n",
       "    </tr>\n",
       "  </tbody>\n",
       "</table>\n",
       "<p>209 rows × 6 columns</p>\n",
       "</div>"
      ],
      "text/plain": [
       "     Flat  Amorphous  Sphere  Stick  Cube  \\\n",
       "0       0          0       0      1     1   \n",
       "1       0          0       0      1     0   \n",
       "2       0          0       1      0     0   \n",
       "3       0          0       1      0     1   \n",
       "4       0          0       0      1     1   \n",
       "..    ...        ...     ...    ...   ...   \n",
       "204     0          0       0      0     1   \n",
       "205     0          1       0      0     1   \n",
       "206     0          0       0      1     1   \n",
       "207     0          0       0      1     1   \n",
       "208     0          0       0      1     1   \n",
       "\n",
       "                                                  text  \n",
       "0    All the materials were synthesized by the co-p...  \n",
       "1    All the materials were synthesized by the co-p...  \n",
       "2    All the materials were synthesized by the co-p...  \n",
       "3    All the materials were synthesized by the co-p...  \n",
       "4    All the materials were synthesized by the co-p...  \n",
       "..                                                 ...  \n",
       "204  All the materials were synthesized by the co-p...  \n",
       "205  All the materials were synthesized by the co-p...  \n",
       "206  All the materials were synthesized by the co-p...  \n",
       "207  All the materials were synthesized by the co-p...  \n",
       "208  All the materials were synthesized by the co-p...  \n",
       "\n",
       "[209 rows x 6 columns]"
      ]
     },
     "execution_count": 32,
     "metadata": {},
     "output_type": "execute_result"
    }
   ],
   "source": [
    "dataset_pattern_0"
   ]
  },
  {
   "cell_type": "code",
   "execution_count": 33,
   "metadata": {},
   "outputs": [
    {
     "name": "stdout",
     "output_type": "stream",
     "text": [
      "Batch 1 completed out of 1\n"
     ]
    }
   ],
   "source": [
    "Text_embeddings = Create_text_embeddings(dataset_pattern_0, device, batch_size=2000)"
   ]
  },
  {
   "cell_type": "code",
   "execution_count": 6,
   "metadata": {},
   "outputs": [
    {
     "data": {
      "text/plain": [
       "tensor([[-1.0812e+00, -3.5154e-01, -3.3493e-04,  ..., -3.0808e-01,\n",
       "          5.5263e-01,  5.9040e-01],\n",
       "        [-1.0621e+00, -2.1866e-01, -1.0814e-02,  ..., -5.4173e-01,\n",
       "          5.1261e-01,  6.6835e-01],\n",
       "        [-8.7403e-01, -1.2175e-01,  8.8376e-02,  ..., -5.9882e-01,\n",
       "          4.3596e-01,  5.9759e-01],\n",
       "        ...,\n",
       "        [-1.0363e+00, -1.6941e-01, -6.1533e-02,  ..., -3.6076e-01,\n",
       "          4.2833e-01,  7.0775e-01],\n",
       "        [-9.6085e-01, -2.2651e-01, -8.2822e-02,  ..., -4.3504e-01,\n",
       "          4.1118e-01,  6.4225e-01],\n",
       "        [-8.6137e-01, -2.7594e-02, -1.2861e-01,  ..., -6.4316e-01,\n",
       "          4.4825e-01,  5.0638e-01]])"
      ]
     },
     "execution_count": 6,
     "metadata": {},
     "output_type": "execute_result"
    }
   ],
   "source": [
    "Text_embeddings"
   ]
  },
  {
   "cell_type": "code",
   "execution_count": 7,
   "metadata": {},
   "outputs": [],
   "source": [
    "import pandas as pd\n",
    "import numpy\n",
    "from sklearn.model_selection import train_test_split\n",
    "from sklearn.ensemble import RandomForestClassifier\n",
    "import numpy as np\n",
    "from sklearn.metrics import (\n",
    "    f1_score,\n",
    "    accuracy_score,\n",
    "    precision_recall_curve,\n",
    ")\n",
    "import seaborn as sns\n",
    "from matplotlib import pyplot as plt\n",
    "from sklearn.model_selection import cross_val_score, KFold\n",
    "from sklearn.metrics import mean_squared_error\n",
    "from sklearn.preprocessing import StandardScaler, MinMaxScaler\n",
    "import warnings\n",
    "from sklearn.model_selection import GridSearchCV\n",
    "import pickle\n",
    "import xgboost\n",
    "warnings.filterwarnings(\"ignore\")"
   ]
  },
  {
   "cell_type": "code",
   "execution_count": 20,
   "metadata": {},
   "outputs": [],
   "source": [
    "def calculate_metrics(model, X_test, y_test):\n",
    "    y_predict_proba = model.predict_proba(X_test)[:, 1]\n",
    "    precision, recall, thresholds2 = precision_recall_curve(y_test, y_predict_proba)\n",
    "    threshold = thresholds2[np.argmin(abs(precision - recall))]\n",
    "\n",
    "    y_pred = (model.predict_proba(X_test)[:, 1] >= threshold).astype(int)\n",
    "    acc = accuracy_score(y_test, y_pred)\n",
    "    f1 = f1_score(y_test, y_pred, average=\"macro\")\n",
    "    return acc, f1"
   ]
  },
  {
   "cell_type": "code",
   "execution_count": 25,
   "metadata": {},
   "outputs": [],
   "source": [
    "X = Text_embeddings\n",
    "y = labels['Flat']"
   ]
  },
  {
   "cell_type": "code",
   "execution_count": 26,
   "metadata": {},
   "outputs": [],
   "source": [
    "X_train, X_test, y_train, y_test = train_test_split(\n",
    "    X, y, test_size=0.15, random_state=42, shuffle=True\n",
    ")\n",
    "\n",
    "rf_def = RandomForestClassifier(random_state=42)\n",
    "rf_def.fit(X_train, y_train)\n",
    "rf_def_acc, rf_def_f1 = calculate_metrics(rf_def, X_test, y_test)"
   ]
  },
  {
   "cell_type": "code",
   "execution_count": 27,
   "metadata": {},
   "outputs": [
    {
     "data": {
      "text/plain": [
       "0.905982905982906"
      ]
     },
     "execution_count": 27,
     "metadata": {},
     "output_type": "execute_result"
    }
   ],
   "source": [
    "rf_def_acc"
   ]
  },
  {
   "cell_type": "code",
   "execution_count": 28,
   "metadata": {},
   "outputs": [
    {
     "data": {
      "text/plain": [
       "0.6689814814814815"
      ]
     },
     "execution_count": 28,
     "metadata": {},
     "output_type": "execute_result"
    }
   ],
   "source": [
    "rf_def_f1"
   ]
  }
 ],
 "metadata": {
  "kernelspec": {
   "display_name": "pl",
   "language": "python",
   "name": "python3"
  },
  "language_info": {
   "codemirror_mode": {
    "name": "ipython",
    "version": 3
   },
   "file_extension": ".py",
   "mimetype": "text/x-python",
   "name": "python",
   "nbconvert_exporter": "python",
   "pygments_lexer": "ipython3",
   "version": "3.9.0"
  }
 },
 "nbformat": 4,
 "nbformat_minor": 2
}
