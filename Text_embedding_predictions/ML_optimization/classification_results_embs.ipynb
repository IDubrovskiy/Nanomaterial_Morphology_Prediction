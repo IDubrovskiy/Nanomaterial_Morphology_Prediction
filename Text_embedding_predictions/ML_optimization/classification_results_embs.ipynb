{
 "cells": [
  {
   "cell_type": "code",
   "execution_count": 1,
   "metadata": {},
   "outputs": [
    {
     "name": "stderr",
     "output_type": "stream",
     "text": [
      "c:\\Users\\ID\\miniconda3\\envs\\pl\\lib\\site-packages\\torchaudio\\backend\\utils.py:74: UserWarning: No audio backend is available.\n",
      "  warnings.warn(\"No audio backend is available.\")\n"
     ]
    }
   ],
   "source": [
    "import pandas as pd\n",
    "import numpy as np\n",
    "from optimize_classification_embs import calculate_final_metrics, calculate_final_metrics_xgb\n",
    "from utils import Create_text_embeddings\n",
    "import torch"
   ]
  },
  {
   "cell_type": "code",
   "execution_count": 2,
   "metadata": {},
   "outputs": [],
   "source": [
    "particle_list = [\n",
    "    \"Cube\",\n",
    "    \"Stick\",\n",
    "    \"Sphere\",\n",
    "    \"Flat\",\n",
    "    \"Amorphous\"\n",
    "]"
   ]
  },
  {
   "cell_type": "code",
   "execution_count": 3,
   "metadata": {},
   "outputs": [
    {
     "name": "stdout",
     "output_type": "stream",
     "text": [
      "Batch 1 completed out of 1\n",
      "Fitting 5 folds for each of 4 candidates, totalling 20 fits\n",
      "Fitting 5 folds for each of 4 candidates, totalling 20 fits\n",
      "Fitting 5 folds for each of 4 candidates, totalling 20 fits\n",
      "Fitting 5 folds for each of 4 candidates, totalling 20 fits\n",
      "Fitting 5 folds for each of 4 candidates, totalling 20 fits\n",
      "Batch 1 completed out of 1\n",
      "Fitting 5 folds for each of 4 candidates, totalling 20 fits\n",
      "Fitting 5 folds for each of 4 candidates, totalling 20 fits\n",
      "Fitting 5 folds for each of 4 candidates, totalling 20 fits\n",
      "Fitting 5 folds for each of 4 candidates, totalling 20 fits\n",
      "Fitting 5 folds for each of 4 candidates, totalling 20 fits\n",
      "Batch 1 completed out of 1\n",
      "Fitting 5 folds for each of 4 candidates, totalling 20 fits\n",
      "Fitting 5 folds for each of 4 candidates, totalling 20 fits\n",
      "Fitting 5 folds for each of 4 candidates, totalling 20 fits\n",
      "Fitting 5 folds for each of 4 candidates, totalling 20 fits\n",
      "Fitting 5 folds for each of 4 candidates, totalling 20 fits\n",
      "Batch 1 completed out of 1\n",
      "Fitting 5 folds for each of 4 candidates, totalling 20 fits\n",
      "Fitting 5 folds for each of 4 candidates, totalling 20 fits\n",
      "Fitting 5 folds for each of 4 candidates, totalling 20 fits\n",
      "Fitting 5 folds for each of 4 candidates, totalling 20 fits\n",
      "Fitting 5 folds for each of 4 candidates, totalling 20 fits\n",
      "Batch 1 completed out of 1\n",
      "Fitting 5 folds for each of 4 candidates, totalling 20 fits\n",
      "Fitting 5 folds for each of 4 candidates, totalling 20 fits\n",
      "Fitting 5 folds for each of 4 candidates, totalling 20 fits\n",
      "Fitting 5 folds for each of 4 candidates, totalling 20 fits\n",
      "Fitting 5 folds for each of 4 candidates, totalling 20 fits\n"
     ]
    }
   ],
   "source": [
    "final_df = pd.DataFrame(\n",
    "        columns=[\n",
    "            \"rf_acc_unoptimized\",\n",
    "            \"rf_f1_unoptimized\",\n",
    "            \"rf_acc_optimized\",\n",
    "            \"rf_f1_optimized\",\n",
    "        ])\n",
    "for particle in particle_list:\n",
    "    df = calculate_final_metrics(particle)\n",
    "    final_df = pd.concat([final_df, df])"
   ]
  },
  {
   "cell_type": "code",
   "execution_count": 4,
   "metadata": {},
   "outputs": [
    {
     "data": {
      "text/html": [
       "<div>\n",
       "<style scoped>\n",
       "    .dataframe tbody tr th:only-of-type {\n",
       "        vertical-align: middle;\n",
       "    }\n",
       "\n",
       "    .dataframe tbody tr th {\n",
       "        vertical-align: top;\n",
       "    }\n",
       "\n",
       "    .dataframe thead th {\n",
       "        text-align: right;\n",
       "    }\n",
       "</style>\n",
       "<table border=\"1\" class=\"dataframe\">\n",
       "  <thead>\n",
       "    <tr style=\"text-align: right;\">\n",
       "      <th></th>\n",
       "      <th>rf_acc_unoptimized</th>\n",
       "      <th>rf_f1_unoptimized</th>\n",
       "      <th>rf_acc_optimized</th>\n",
       "      <th>rf_f1_optimized</th>\n",
       "    </tr>\n",
       "  </thead>\n",
       "  <tbody>\n",
       "    <tr>\n",
       "      <th>0</th>\n",
       "      <td>0.72 ± 0.05</td>\n",
       "      <td>0.69 ± 0.05</td>\n",
       "      <td>0.73 ± 0.04</td>\n",
       "      <td>0.70 ± 0.04</td>\n",
       "    </tr>\n",
       "    <tr>\n",
       "      <th>0</th>\n",
       "      <td>0.65 ± 0.02</td>\n",
       "      <td>0.64 ± 0.02</td>\n",
       "      <td>0.65 ± 0.02</td>\n",
       "      <td>0.63 ± 0.02</td>\n",
       "    </tr>\n",
       "    <tr>\n",
       "      <th>0</th>\n",
       "      <td>0.78 ± 0.03</td>\n",
       "      <td>0.48 ± 0.04</td>\n",
       "      <td>0.77 ± 0.05</td>\n",
       "      <td>0.56 ± 0.06</td>\n",
       "    </tr>\n",
       "    <tr>\n",
       "      <th>0</th>\n",
       "      <td>0.52 ± 0.24</td>\n",
       "      <td>0.32 ± 0.12</td>\n",
       "      <td>0.55 ± 0.24</td>\n",
       "      <td>0.34 ± 0.13</td>\n",
       "    </tr>\n",
       "    <tr>\n",
       "      <th>0</th>\n",
       "      <td>0.78 ± 0.06</td>\n",
       "      <td>0.60 ± 0.08</td>\n",
       "      <td>0.79 ± 0.06</td>\n",
       "      <td>0.62 ± 0.08</td>\n",
       "    </tr>\n",
       "  </tbody>\n",
       "</table>\n",
       "</div>"
      ],
      "text/plain": [
       "  rf_acc_unoptimized rf_f1_unoptimized rf_acc_optimized rf_f1_optimized\n",
       "0        0.72 ± 0.05       0.69 ± 0.05      0.73 ± 0.04     0.70 ± 0.04\n",
       "0        0.65 ± 0.02       0.64 ± 0.02      0.65 ± 0.02     0.63 ± 0.02\n",
       "0        0.78 ± 0.03       0.48 ± 0.04      0.77 ± 0.05     0.56 ± 0.06\n",
       "0        0.52 ± 0.24       0.32 ± 0.12      0.55 ± 0.24     0.34 ± 0.13\n",
       "0        0.78 ± 0.06       0.60 ± 0.08      0.79 ± 0.06     0.62 ± 0.08"
      ]
     },
     "execution_count": 4,
     "metadata": {},
     "output_type": "execute_result"
    }
   ],
   "source": [
    "final_df"
   ]
  },
  {
   "cell_type": "code",
   "execution_count": 5,
   "metadata": {},
   "outputs": [],
   "source": [
    "final_df['particle'] = particle_list"
   ]
  },
  {
   "cell_type": "code",
   "execution_count": 6,
   "metadata": {},
   "outputs": [],
   "source": [
    "final_df.to_csv('results_rf_filtered_embs_0.csv')"
   ]
  },
  {
   "cell_type": "code",
   "execution_count": 7,
   "metadata": {},
   "outputs": [
    {
     "name": "stdout",
     "output_type": "stream",
     "text": [
      "Batch 1 completed out of 1\n",
      "Fitting 5 folds for each of 6 candidates, totalling 30 fits\n",
      "Fitting 5 folds for each of 6 candidates, totalling 30 fits\n",
      "Fitting 5 folds for each of 6 candidates, totalling 30 fits\n",
      "Fitting 5 folds for each of 6 candidates, totalling 30 fits\n",
      "Fitting 5 folds for each of 6 candidates, totalling 30 fits\n",
      "Batch 1 completed out of 1\n",
      "Fitting 5 folds for each of 6 candidates, totalling 30 fits\n",
      "Fitting 5 folds for each of 6 candidates, totalling 30 fits\n",
      "Fitting 5 folds for each of 6 candidates, totalling 30 fits\n",
      "Fitting 5 folds for each of 6 candidates, totalling 30 fits\n",
      "Fitting 5 folds for each of 6 candidates, totalling 30 fits\n",
      "Batch 1 completed out of 1\n",
      "Fitting 5 folds for each of 6 candidates, totalling 30 fits\n",
      "Fitting 5 folds for each of 6 candidates, totalling 30 fits\n",
      "Fitting 5 folds for each of 6 candidates, totalling 30 fits\n",
      "Fitting 5 folds for each of 6 candidates, totalling 30 fits\n",
      "Fitting 5 folds for each of 6 candidates, totalling 30 fits\n",
      "Batch 1 completed out of 1\n",
      "Fitting 5 folds for each of 6 candidates, totalling 30 fits\n",
      "Fitting 5 folds for each of 6 candidates, totalling 30 fits\n",
      "Fitting 5 folds for each of 6 candidates, totalling 30 fits\n",
      "Fitting 5 folds for each of 6 candidates, totalling 30 fits\n",
      "Fitting 5 folds for each of 6 candidates, totalling 30 fits\n",
      "Batch 1 completed out of 1\n",
      "Fitting 5 folds for each of 6 candidates, totalling 30 fits\n",
      "Fitting 5 folds for each of 6 candidates, totalling 30 fits\n",
      "Fitting 5 folds for each of 6 candidates, totalling 30 fits\n",
      "Fitting 5 folds for each of 6 candidates, totalling 30 fits\n",
      "Fitting 5 folds for each of 6 candidates, totalling 30 fits\n"
     ]
    }
   ],
   "source": [
    "final_df_xgb = pd.DataFrame(\n",
    "        columns=[\n",
    "            \"xgb_acc_unoptimized\",\n",
    "            \"xgb_f1_unoptimized\",\n",
    "            \"xgb_acc_optimized\",\n",
    "            \"xgb_f1_optimized\",\n",
    "        ])\n",
    "for particle in particle_list:\n",
    "    df = calculate_final_metrics_xgb(particle)\n",
    "    final_df_xgb = pd.concat([final_df_xgb, df])"
   ]
  },
  {
   "cell_type": "code",
   "execution_count": 8,
   "metadata": {},
   "outputs": [],
   "source": [
    "final_df_xgb['particle'] = particle_list"
   ]
  },
  {
   "cell_type": "code",
   "execution_count": 9,
   "metadata": {},
   "outputs": [
    {
     "data": {
      "text/html": [
       "<div>\n",
       "<style scoped>\n",
       "    .dataframe tbody tr th:only-of-type {\n",
       "        vertical-align: middle;\n",
       "    }\n",
       "\n",
       "    .dataframe tbody tr th {\n",
       "        vertical-align: top;\n",
       "    }\n",
       "\n",
       "    .dataframe thead th {\n",
       "        text-align: right;\n",
       "    }\n",
       "</style>\n",
       "<table border=\"1\" class=\"dataframe\">\n",
       "  <thead>\n",
       "    <tr style=\"text-align: right;\">\n",
       "      <th></th>\n",
       "      <th>xgb_acc_unoptimized</th>\n",
       "      <th>xgb_f1_unoptimized</th>\n",
       "      <th>xgb_acc_optimized</th>\n",
       "      <th>xgb_f1_optimized</th>\n",
       "      <th>particle</th>\n",
       "    </tr>\n",
       "  </thead>\n",
       "  <tbody>\n",
       "    <tr>\n",
       "      <th>0</th>\n",
       "      <td>0.72 ± 0.05</td>\n",
       "      <td>0.68 ± 0.05</td>\n",
       "      <td>0.71 ± 0.04</td>\n",
       "      <td>0.68 ± 0.04</td>\n",
       "      <td>Cube</td>\n",
       "    </tr>\n",
       "    <tr>\n",
       "      <th>0</th>\n",
       "      <td>0.65 ± 0.05</td>\n",
       "      <td>0.64 ± 0.05</td>\n",
       "      <td>0.66 ± 0.03</td>\n",
       "      <td>0.65 ± 0.03</td>\n",
       "      <td>Stick</td>\n",
       "    </tr>\n",
       "    <tr>\n",
       "      <th>0</th>\n",
       "      <td>0.77 ± 0.03</td>\n",
       "      <td>0.56 ± 0.04</td>\n",
       "      <td>0.77 ± 0.03</td>\n",
       "      <td>0.56 ± 0.05</td>\n",
       "      <td>Sphere</td>\n",
       "    </tr>\n",
       "    <tr>\n",
       "      <th>0</th>\n",
       "      <td>0.49 ± 0.18</td>\n",
       "      <td>0.32 ± 0.09</td>\n",
       "      <td>0.50 ± 0.20</td>\n",
       "      <td>0.32 ± 0.10</td>\n",
       "      <td>Flat</td>\n",
       "    </tr>\n",
       "    <tr>\n",
       "      <th>0</th>\n",
       "      <td>0.79 ± 0.05</td>\n",
       "      <td>0.62 ± 0.05</td>\n",
       "      <td>0.79 ± 0.05</td>\n",
       "      <td>0.62 ± 0.05</td>\n",
       "      <td>Amorphous</td>\n",
       "    </tr>\n",
       "  </tbody>\n",
       "</table>\n",
       "</div>"
      ],
      "text/plain": [
       "  xgb_acc_unoptimized xgb_f1_unoptimized xgb_acc_optimized xgb_f1_optimized  \\\n",
       "0         0.72 ± 0.05        0.68 ± 0.05       0.71 ± 0.04      0.68 ± 0.04   \n",
       "0         0.65 ± 0.05        0.64 ± 0.05       0.66 ± 0.03      0.65 ± 0.03   \n",
       "0         0.77 ± 0.03        0.56 ± 0.04       0.77 ± 0.03      0.56 ± 0.05   \n",
       "0         0.49 ± 0.18        0.32 ± 0.09       0.50 ± 0.20      0.32 ± 0.10   \n",
       "0         0.79 ± 0.05        0.62 ± 0.05       0.79 ± 0.05      0.62 ± 0.05   \n",
       "\n",
       "    particle  \n",
       "0       Cube  \n",
       "0      Stick  \n",
       "0     Sphere  \n",
       "0       Flat  \n",
       "0  Amorphous  "
      ]
     },
     "execution_count": 9,
     "metadata": {},
     "output_type": "execute_result"
    }
   ],
   "source": [
    "final_df_xgb"
   ]
  },
  {
   "cell_type": "code",
   "execution_count": 10,
   "metadata": {},
   "outputs": [],
   "source": [
    "final_df_xgb.to_csv('results_xgb_filtered_embs_0.csv')"
   ]
  }
 ],
 "metadata": {
  "kernelspec": {
   "display_name": "pl",
   "language": "python",
   "name": "python3"
  },
  "language_info": {
   "codemirror_mode": {
    "name": "ipython",
    "version": 3
   },
   "file_extension": ".py",
   "mimetype": "text/x-python",
   "name": "python",
   "nbconvert_exporter": "python",
   "pygments_lexer": "ipython3",
   "version": "3.9.0"
  }
 },
 "nbformat": 4,
 "nbformat_minor": 2
}
