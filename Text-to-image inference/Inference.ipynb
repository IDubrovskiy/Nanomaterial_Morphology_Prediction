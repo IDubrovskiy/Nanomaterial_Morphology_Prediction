{
 "cells": [
  {
   "cell_type": "code",
   "execution_count": 1,
   "metadata": {},
   "outputs": [
    {
     "name": "stderr",
     "output_type": "stream",
     "text": [
      "c:\\Users\\ID\\.conda\\envs\\pl\\lib\\site-packages\\tqdm\\auto.py:21: TqdmWarning: IProgress not found. Please update jupyter and ipywidgets. See https://ipywidgets.readthedocs.io/en/stable/user_install.html\n",
      "  from .autonotebook import tqdm as notebook_tqdm\n",
      "c:\\Users\\ID\\.conda\\envs\\pl\\lib\\site-packages\\torchaudio\\backend\\utils.py:74: UserWarning: No audio backend is available.\n",
      "  warnings.warn(\"No audio backend is available.\")\n",
      "c:\\Users\\ID\\.conda\\envs\\pl\\lib\\site-packages\\pl_bolts\\__init__.py:11: FutureWarning: In the future `np.object` will be defined as the corresponding NumPy scalar.\n",
      "  if not hasattr(numpy, tp_name):\n",
      "c:\\Users\\ID\\.conda\\envs\\pl\\lib\\site-packages\\pl_bolts\\__init__.py:11: FutureWarning: In the future `np.bool` will be defined as the corresponding NumPy scalar.\n",
      "  if not hasattr(numpy, tp_name):\n",
      "c:\\Users\\ID\\.conda\\envs\\pl\\lib\\site-packages\\pl_bolts\\models\\self_supervised\\amdim\\amdim_module.py:34: UnderReviewWarning: The feature generate_power_seq is currently marked under review. The compatibility with other Lightning projects is not guaranteed and API may change at any time. The API and functionality may change without warning in future releases. More details: https://lightning-bolts.readthedocs.io/en/latest/stability.html\n",
      "  \"lr_options\": generate_power_seq(LEARNING_RATE_CIFAR, 11),\n",
      "c:\\Users\\ID\\.conda\\envs\\pl\\lib\\site-packages\\pl_bolts\\models\\self_supervised\\amdim\\amdim_module.py:92: UnderReviewWarning: The feature FeatureMapContrastiveTask is currently marked under review. The compatibility with other Lightning projects is not guaranteed and API may change at any time. The API and functionality may change without warning in future releases. More details: https://lightning-bolts.readthedocs.io/en/latest/stability.html\n",
      "  contrastive_task: Union[FeatureMapContrastiveTask] = FeatureMapContrastiveTask(\"01, 02, 11\"),\n",
      "c:\\Users\\ID\\.conda\\envs\\pl\\lib\\site-packages\\pl_bolts\\losses\\self_supervised_learning.py:228: UnderReviewWarning: The feature AmdimNCELoss is currently marked under review. The compatibility with other Lightning projects is not guaranteed and API may change at any time. The API and functionality may change without warning in future releases. More details: https://lightning-bolts.readthedocs.io/en/latest/stability.html\n",
      "  self.nce_loss = AmdimNCELoss(tclip)\n"
     ]
    }
   ],
   "source": [
    "import pickle\n",
    "from pytorch_lightning import LightningModule, Trainer, seed_everything\n",
    "from pytorch_lightning.loggers import TensorBoardLogger\n",
    "from torch import nn\n",
    "from transformers import AutoTokenizer, AutoModel\n",
    "import torch\n",
    "from argparse import ArgumentParser\n",
    "import pytorch_lightning as pl\n",
    "from matplotlib import pyplot\n",
    "from torch.nn import functional as F\n",
    "import random\n",
    "import torchvision.transforms as transforms\n",
    "from torchvision.datasets import ImageFolder\n",
    "from torch.utils.data import DataLoader\n",
    "from transformers import logging\n",
    "logging.set_verbosity_error()\n",
    "\n",
    "from utils import Plot_results, Create_data\n",
    "from Linking_AE_training.VAE_Final_Architecture import VAE\n",
    "from Linking_AE_training.Linking_AE_Architectures import Linking_AE"
   ]
  },
  {
   "cell_type": "markdown",
   "metadata": {},
   "source": [
    "This file presents the pipeline for predicting the nanomaterial image from the synthesis text. For this purpose, the checkpoints of the trained VAE and linking AE are used. The text is passed to the input below and resulted image is saved as result.png"
   ]
  },
  {
   "cell_type": "code",
   "execution_count": 2,
   "metadata": {},
   "outputs": [],
   "source": [
    "input = \"All the materials were synthesized by the co-precipitation technique. First, 81 mkl of 1 M CaCl2 was mixed with 20 mkl of 0.335 % wt. PVP polymer with molecular weight of 40.0 kDa. Then, 0.0 mkl of None was added, following adjustment with distilled water up to 500 mkl. Then, 22 mkl of 0.1 M Na2CO3 was mixed with 0 mkl of 0.1 M of NaHCO3 and 20 mkl of 0.425 % wt. Myristyltrimethylammonium bromide as surfactant. Then, 0.0 mkl of None was added, following adjustment with distilled water up to 500 mkl. Two resulting solutions, heated up to 58 C before the reaction, were mixed under the stirring with 0 rpm, while the temperature kept unchanged. Reaction proceeded for 89 min 0 sec min following centrifugation.\""
   ]
  },
  {
   "cell_type": "code",
   "execution_count": 3,
   "metadata": {},
   "outputs": [],
   "source": [
    "path_to_data = \"Datasets/Augmented_One_Particle_Dataset\"\n",
    "device = torch.device('cuda' if torch.cuda.is_available() else 'cpu')\n"
   ]
  },
  {
   "cell_type": "code",
   "execution_count": 4,
   "metadata": {},
   "outputs": [],
   "source": [
    "preprocessed_data = Create_data(path_to_data, pattern=0)"
   ]
  },
  {
   "cell_type": "code",
   "execution_count": 5,
   "metadata": {},
   "outputs": [],
   "source": [
    "link_ckpt_path = \"Linking_AE_training/Result_Linking_AE/Linking_AE_Test/version_0/checkpoints/epoch=199-step=44000.ckpt\"\n",
    "vae_ckpt_path = \"VAE_Training/Results_VAE/Results_VAE_Final_Validation/version_0/checkpoints/epoch=39-step=26320.ckpt\" "
   ]
  },
  {
   "cell_type": "code",
   "execution_count": 6,
   "metadata": {},
   "outputs": [],
   "source": [
    "def Load_text_model(device):\n",
    "    #Загрузка токенизатора и самой модели\n",
    "    tokenizer = AutoTokenizer.from_pretrained(\"bert-base-uncased\")\n",
    "    model = AutoModel.from_pretrained(\"bert-base-uncased\").to(device)\n",
    "    return model, tokenizer"
   ]
  },
  {
   "cell_type": "code",
   "execution_count": 7,
   "metadata": {},
   "outputs": [],
   "source": [
    "def Create_text_embeddings(preprocessed_data, device, batch_size = 200):\n",
    "    model, tokenizer = Load_text_model(device)\n",
    "    bert_input = preprocessed_data\n",
    "    embeddings = torch.tensor([])\n",
    "    for index, batch in enumerate(bert_input):\n",
    "        tokenized_train = tokenizer(batch, padding = 'max_length', truncation = True, return_tensors=\"pt\", max_length=256)\n",
    "        #move on device (GPU)\n",
    "        tokenized_train = {k:v.clone().detach().to(device) for k,v in tokenized_train.items()}\n",
    "        with torch.no_grad():\n",
    "            hidden_train = model(**tokenized_train) #dim : [batch_size(nr_sentences), tokens, emb_dim]\n",
    "            embeddings = torch.cat((embeddings, hidden_train.last_hidden_state[:, :, :,].detach().cpu()[:,0]), 0)\n",
    "        print('Batch', str(index + 1), 'completed out of', len(bert_input))\n",
    "    return embeddings"
   ]
  },
  {
   "cell_type": "code",
   "execution_count": 8,
   "metadata": {},
   "outputs": [
    {
     "name": "stdout",
     "output_type": "stream",
     "text": [
      "Batch 1 completed out of 1\n"
     ]
    }
   ],
   "source": [
    "Text_embeddings = Create_text_embeddings([input], device, batch_size=1000)"
   ]
  },
  {
   "cell_type": "code",
   "execution_count": 10,
   "metadata": {},
   "outputs": [],
   "source": [
    "ae = Linking_AE.load_from_checkpoint(link_ckpt_path)"
   ]
  },
  {
   "cell_type": "code",
   "execution_count": 11,
   "metadata": {},
   "outputs": [],
   "source": [
    "with torch.no_grad():\n",
    "    ae.eval()\n",
    "    embedding = ae(Text_embeddings.to(ae.device))\n",
    "    ae.train()"
   ]
  },
  {
   "cell_type": "code",
   "execution_count": 12,
   "metadata": {},
   "outputs": [],
   "source": [
    "model = VAE.load_from_checkpoint(vae_ckpt_path)"
   ]
  },
  {
   "cell_type": "code",
   "execution_count": 13,
   "metadata": {},
   "outputs": [],
   "source": [
    "mu = model.fc_mu(embedding.to(ae.device))\n",
    "log_var = model.fc_var(embedding.to(ae.device))\n",
    "p, q, z = model.sample(mu, log_var)\n",
    "decoded = model.decoder(z)"
   ]
  },
  {
   "cell_type": "code",
   "execution_count": 16,
   "metadata": {},
   "outputs": [
    {
     "data": {
      "image/png": "[encoded data removed]",
      "text/plain": [
       "<Figure size 640x480 with 1 Axes>"
      ]
     },
     "metadata": {},
     "output_type": "display_data"
    }
   ],
   "source": [
    "pyplot.figure()\n",
    "pyplot.imshow(decoded.cpu().detach().numpy()[0][0], cmap=\"gray\")\n",
    "pyplot.savefig(\"result.png\")"
   ]
  }
 ],
 "metadata": {
  "kernelspec": {
   "display_name": "py39",
   "language": "python",
   "name": "python3"
  },
  "language_info": {
   "codemirror_mode": {
    "name": "ipython",
    "version": 3
   },
   "file_extension": ".py",
   "mimetype": "text/x-python",
   "name": "python",
   "nbconvert_exporter": "python",
   "pygments_lexer": "ipython3",
   "version": "3.9.0"
  },
  "orig_nbformat": 4
 },
 "nbformat": 4,
 "nbformat_minor": 2
}
