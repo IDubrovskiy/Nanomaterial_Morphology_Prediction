{
 "cells": [
  {
   "cell_type": "code",
   "execution_count": 1,
   "metadata": {},
   "outputs": [],
   "source": [
    "import random\n",
    "import pandas as pd\n",
    "import numpy as np"
   ]
  },
  {
   "cell_type": "code",
   "execution_count": 2,
   "metadata": {},
   "outputs": [],
   "source": [
    "def generate_patterns(procedures, values, index = 0, num_of_patterns = 1):  \n",
    "  new_procedures = []\n",
    "  for i in range(num_of_patterns):\n",
    "    pattern = random.choice(procedures)\n",
    "    ca_conc = values.iloc[index, 0]\n",
    "    co3_conc = values.iloc[index, 1]\n",
    "    hco3_conc = values.iloc[index, 2]\n",
    "    polymer = values.iloc[index, 3]\n",
    "    pol_mass = values.iloc[index, 4]\n",
    "    pol_conc = values.iloc[index, 5]\n",
    "    pol_vol = 20\n",
    "    surfactant = values.iloc[index, 6]\n",
    "    surf_conc = values.iloc[index, 7]\n",
    "    surf_vol = 20\n",
    "    solvent = values.iloc[index, 8]\n",
    "    solvent_volume = values.iloc[index, 9]\n",
    "    stir_ratio = values.iloc[index, 10]\n",
    "    r_time = values.iloc[index, 12]\n",
    "    r_temp = values.iloc[index, 11]\n",
    "    new_procedure = pattern.format(ca_conc=ca_conc,\n",
    "                                      co3_conc=co3_conc,\n",
    "                                      hco3_conc=hco3_conc, \n",
    "                                      polymer=polymer,\n",
    "                                      pol_mass=pol_mass,\n",
    "                                      pol_conc=pol_conc,\n",
    "                                      pol_vol=pol_vol,\n",
    "                                      surfactant=surfactant,\n",
    "                                      surf_conc=surf_conc,\n",
    "                                      surf_vol=surf_vol,\n",
    "                                      solvent=solvent, \n",
    "                                      solvent_volume=solvent_volume,\n",
    "                                      stir_ratio=stir_ratio,\n",
    "                                      r_time=r_time,\n",
    "                                      r_temp=r_temp)\n",
    "    new_procedures = new_procedures + [new_procedure] \n",
    "  \n",
    "  return new_procedures"
   ]
  },
  {
   "cell_type": "code",
   "execution_count": 3,
   "metadata": {},
   "outputs": [],
   "source": [
    "shapes = pd.read_excel('..\\Datasets\\{}'.format('dataset_labeled.xlsx'))\n",
    "ids = shapes.Image_id.tolist()\n",
    "values = pd.read_excel('..\\Datasets\\{}'.format('synthesis_conditions_dataset.xlsx'))\n",
    "values = values.loc[ids].reset_index(drop=True)\n",
    "shapes = shapes.loc[:,['Flat','Amorphous','Sphere','Stick','Cube',]]\n",
    "#shapes = pd.DataFrame(shapes.idxmax(axis=1), columns = ['real_shape'])"
   ]
  },
  {
   "cell_type": "code",
   "execution_count": 4,
   "metadata": {},
   "outputs": [],
   "source": [
    "def create_data(pattern = None):\n",
    "    with open('..\\Datasets\\procedure_patterns.txt') as f:\n",
    "        lines = filter(None, (line.rstrip() for line in f))\n",
    "        procedures = list(lines)\n",
    "    if pattern != None:\n",
    "       procedures = [procedures[pattern]]\n",
    "    generated_texts = []\n",
    "    for index in range(len(values)):\n",
    "        generated_texts.append(generate_patterns(procedures, values, index=index)[0])\n",
    "    return generated_texts"
   ]
  },
  {
   "cell_type": "code",
   "execution_count": 6,
   "metadata": {},
   "outputs": [],
   "source": [
    "shapes['text'] = create_data(pattern = None)"
   ]
  },
  {
   "cell_type": "code",
   "execution_count": 30,
   "metadata": {},
   "outputs": [],
   "source": [
    "shapes.to_csv('text_dataset_pattern_random.csv')"
   ]
  }
 ],
 "metadata": {
  "kernelspec": {
   "display_name": "py310",
   "language": "python",
   "name": "python3"
  },
  "language_info": {
   "codemirror_mode": {
    "name": "ipython",
    "version": 3
   },
   "file_extension": ".py",
   "mimetype": "text/x-python",
   "name": "python",
   "nbconvert_exporter": "python",
   "pygments_lexer": "ipython3",
   "version": "3.9.0"
  }
 },
 "nbformat": 4,
 "nbformat_minor": 2
}
