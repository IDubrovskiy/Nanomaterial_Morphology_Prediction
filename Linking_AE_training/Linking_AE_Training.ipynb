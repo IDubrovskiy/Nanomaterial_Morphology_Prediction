{
 "cells": [
  {
   "cell_type": "code",
   "execution_count": null,
   "metadata": {},
   "outputs": [],
   "source": [
    "import pickle\n",
    "from pytorch_lightning import LightningModule, Trainer, seed_everything\n",
    "from pytorch_lightning.loggers import TensorBoardLogger\n",
    "from torch import nn\n",
    "import torch\n",
    "import pytorch_lightning as pl\n",
    "import random\n",
    "import torchvision.transforms as transforms\n",
    "from torchvision.datasets import ImageFolder\n",
    "from utils import Create_data, Create_text_embeddings, Create_image_embeddings, Plot_results\n",
    "from torch.utils.data import DataLoader\n",
    "from transformers import logging\n",
    "from Linking_AE_Architectures import Linking_AE"
   ]
  },
  {
   "cell_type": "markdown",
   "metadata": {},
   "source": [
    "This file presents the training of linking AE, which is used to translate a text vector into an image vector, which is then decoded into an image using the decoder from the VAE trained earlier. \n",
    "\n",
    "To fix the seed, the function seed_everything from the pytorch_lightning library is used, as well as manual_seed from torch.\n",
    "\n",
    "This model is described in the paper under \"Linking\" autoencoder model."
   ]
  },
  {
   "cell_type": "code",
   "execution_count": null,
   "metadata": {},
   "outputs": [],
   "source": [
    "seed_everything(41)\n",
    "torch.use_deterministic_algorithms(True)\n",
    "torch.manual_seed(41)"
   ]
  },
  {
   "cell_type": "code",
   "execution_count": 2,
   "metadata": {},
   "outputs": [],
   "source": [
    "batch_size = 8\n",
    "run_id = 'Linking_AE_Test'\n",
    "path_to_data = \"G:/Nanomaterial_Morphology_Prediction/Datasets/Augmented_One_Particle_Dataset/\"\n",
    "vae_checkpoint_path = \"G:/Nanomaterial_Morphology_Prediction/VAE_Training/Results_VAE/Results_VAE_Final_Validation/version_0/checkpoints/epoch=39-step=26320.ckpt\"  \n",
    "\n",
    "device = torch.device('cuda' if torch.cuda.is_available() else 'cpu')\n",
    "crop_size = 128\n",
    "num_of_channels = 1\n"
   ]
  },
  {
   "cell_type": "code",
   "execution_count": 3,
   "metadata": {},
   "outputs": [],
   "source": [
    "def Create_All_embeddings():\n",
    "    preprocessed_data = Create_data(path_to_data, pattern=0)\n",
    "    Text_embeddings = Create_text_embeddings(preprocessed_data, device, batch_size=2000)\n",
    "\n",
    "    with open(\n",
    "        \"Embeddings/text_embeddings_{}.embs\".format(run_id), \"wb\"\n",
    "    ) as handle:\n",
    "        pickle.dump(Text_embeddings, handle, protocol=pickle.HIGHEST_PROTOCOL)\n",
    "    Image_embeddings = Create_image_embeddings(\n",
    "        path_to_data,\n",
    "        vae_checkpoint_path,\n",
    "        batch_size=2000,\n",
    "        crop_size=crop_size,\n",
    "        num_of_channels=num_of_channels,\n",
    "    )\n",
    "\n",
    "    with open(\n",
    "        \"Embeddings/image_embeddings_{}.embs\".format(run_id), \"wb\"\n",
    "    ) as handle:\n",
    "        pickle.dump(Image_embeddings, handle, protocol=pickle.HIGHEST_PROTOCOL)\n",
    "    return preprocessed_data, Text_embeddings, Image_embeddings\n"
   ]
  },
  {
   "cell_type": "code",
   "execution_count": 4,
   "metadata": {},
   "outputs": [
    {
     "name": "stdout",
     "output_type": "stream",
     "text": [
      "Batch 1 completed out of 1\n",
      "1755 images preprocessed out of 1755\n"
     ]
    }
   ],
   "source": [
    "preprocessed_data, text, image = Create_All_embeddings()"
   ]
  },
  {
   "cell_type": "code",
   "execution_count": 5,
   "metadata": {},
   "outputs": [],
   "source": [
    "train_dl = DataLoader([[text[i], image[i]] for i in range(len(text))], shuffle=True, batch_size=batch_size, num_workers=4)"
   ]
  },
  {
   "cell_type": "code",
   "execution_count": null,
   "metadata": {},
   "outputs": [],
   "source": [
    "ae = Linking_AE()\n",
    "logger = TensorBoardLogger(\"Result_Linking_AE\", name=run_id)\n",
    "trainer = pl.Trainer(\n",
    "    max_epochs=200,\n",
    "    log_every_n_steps=10,\n",
    "    logger = logger\n",
    ")"
   ]
  },
  {
   "cell_type": "code",
   "execution_count": null,
   "metadata": {},
   "outputs": [],
   "source": [
    "trainer.fit(ae, train_dl)"
   ]
  },
  {
   "cell_type": "code",
   "execution_count": 8,
   "metadata": {},
   "outputs": [],
   "source": [
    "ae_ckpt_path = \"Result_Linking_AE/Linking_AE_Test/version_0/checkpoints/epoch=199-step=44000.ckpt\"\n",
    "ae = Linking_AE.load_from_checkpoint(ae_ckpt_path)"
   ]
  },
  {
   "cell_type": "code",
   "execution_count": 9,
   "metadata": {},
   "outputs": [],
   "source": [
    "number_of_samples = 10"
   ]
  },
  {
   "cell_type": "code",
   "execution_count": 10,
   "metadata": {},
   "outputs": [],
   "source": [
    "save_to = \"Result_Linking_AE\\\\{r}\\\\\".format(r = run_id)\n",
    "\n",
    "randomlist = random.sample(range(0, len(text)), number_of_samples)\n",
    "x = text[randomlist].clone().detach()\n",
    "y = image[randomlist].clone().detach()\n",
    "with torch.no_grad():\n",
    "    ae.eval()\n",
    "    y_reconst = ae(x.to(ae.device))\n",
    "    ae.train()\n",
    "\n",
    "transform = transforms.Compose(\n",
    "    [\n",
    "        transforms.Resize(crop_size),\n",
    "        transforms.CenterCrop(crop_size),\n",
    "        transforms.ToTensor(),\n",
    "        transforms.Grayscale(num_output_channels=num_of_channels),\n",
    "    ]\n",
    ")\n",
    "dataset = ImageFolder(root=path_to_data, transform=transform)\n",
    "initial = [dataset[i][0] for i in randomlist]"
   ]
  },
  {
   "cell_type": "code",
   "execution_count": 11,
   "metadata": {},
   "outputs": [],
   "source": [
    "Plot_results(y_reconst, y, initial, save_to, vae_checkpoint_path)"
   ]
  }
 ],
 "metadata": {
  "kernelspec": {
   "display_name": "py310",
   "language": "python",
   "name": "python3"
  },
  "language_info": {
   "codemirror_mode": {
    "name": "ipython",
    "version": 3
   },
   "file_extension": ".py",
   "mimetype": "text/x-python",
   "name": "python",
   "nbconvert_exporter": "python",
   "pygments_lexer": "ipython3",
   "version": "3.9.0"
  },
  "orig_nbformat": 4
 },
 "nbformat": 4,
 "nbformat_minor": 2
}
